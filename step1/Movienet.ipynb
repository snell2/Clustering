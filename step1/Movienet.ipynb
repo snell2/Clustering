{
 "cells": [
  {
   "cell_type": "code",
   "execution_count": 15,
   "metadata": {},
   "outputs": [],
   "source": [
    "import pandas as pd\n",
    "from pyspark.sql.functions import *\n",
    "#from mpl_toolkits.basemap import Basemap\n",
    "#import matplotlib.pyplot as plt\n",
    "import numpy as np"
   ]
  },
  {
   "cell_type": "code",
   "execution_count": 2,
   "metadata": {},
   "outputs": [],
   "source": [
    "path=\"s3://finalgeodata/\""
   ]
  },
  {
   "cell_type": "code",
   "execution_count": 3,
   "metadata": {},
   "outputs": [],
   "source": [
    "d = sc.textFile(path+\"devicestatus.txt\").map(lambda x: x.replace('|',',').replace('/',',').split(',')).toDF()\n",
    "data=d.toPandas()"
   ]
  },
  {
   "cell_type": "code",
   "execution_count": 13,
   "metadata": {},
   "outputs": [],
   "source": [
    "#data"
   ]
  },
  {
   "cell_type": "code",
   "execution_count": null,
   "metadata": {},
   "outputs": [],
   "source": []
  },
  {
   "cell_type": "code",
   "execution_count": 5,
   "metadata": {},
   "outputs": [],
   "source": [
    "df=d.select(\"_13\",\"_14\",\"_1\",\"_2\",\"_3\").withColumnRenamed(\"_13\", \"latitude\").withColumnRenamed(\"_14\", \"longitude\").withColumnRenamed(\"_1\", \"date\").withColumnRenamed(\"_2\", \"model\").withColumnRenamed(\"_3\", \"deviceID\")"
   ]
  },
  {
   "cell_type": "code",
   "execution_count": 6,
   "metadata": {
    "scrolled": false
   },
   "outputs": [],
   "source": [
    "#df.show()"
   ]
  },
  {
   "cell_type": "code",
   "execution_count": 7,
   "metadata": {},
   "outputs": [],
   "source": [
    "df =df.filter((df.latitude!=0) & (df.longitude!=0))"
   ]
  },
  {
   "cell_type": "code",
   "execution_count": 9,
   "metadata": {},
   "outputs": [],
   "source": [
    "#df.count()"
   ]
  },
  {
   "cell_type": "code",
   "execution_count": 10,
   "metadata": {},
   "outputs": [],
   "source": [
    "df=df.withColumn(\"manufacturer\",split(df.model,\" \").getItem(0)).withColumn(\"model\",split(df.model,\" \").getItem(1))"
   ]
  },
  {
   "cell_type": "code",
   "execution_count": 11,
   "metadata": {},
   "outputs": [
    {
     "name": "stdout",
     "output_type": "stream",
     "text": [
      "+-------------+--------------+-------------------+-------+--------------------+------------+\n",
      "|     latitude|     longitude|               date|  model|            deviceID|manufacturer|\n",
      "+-------------+--------------+-------------------+-------+--------------------+------------+\n",
      "|33.6894754264|-117.543308253|2014-03-15:10:10:20|   F41L|8cc3b47e-bd01-448...|    Sorrento|\n",
      "|37.4321088904|-121.485029632|2014-03-15:10:10:20|    1.0|ef8c7564-0a1a-465...|      MeeToo|\n",
      "|39.4378908349|-120.938978486|2014-03-15:10:10:20|    1.0|23eba027-b95a-472...|      MeeToo|\n",
      "|39.3635186767|-119.400334708|2014-03-15:10:10:20|   F41L|707daba1-5640-4d6...|    Sorrento|\n",
      "|33.1913581092|-116.448242643|2014-03-15:10:10:20|Novelty|db66fe81-aa55-43b...|       Ronin|\n",
      "|33.8343543748|-117.330000857|2014-03-15:10:10:20|   F41L|ffa18088-69a0-433...|    Sorrento|\n",
      "|37.3803954321|-121.840756755|2014-03-15:10:10:20|   F33L|66d678e6-9c87-48d...|    Sorrento|\n",
      "|34.1841062345|  -117.9435329|2014-03-15:10:10:20|    4.1|673f7e4b-d52b-44f...|      MeeToo|\n",
      "|32.2850556785|-111.819583734|2014-03-15:10:10:20|Novelty|a678ccc3-b0d2-452...|       Ronin|\n",
      "|45.2400522984|-122.377467861|2014-03-15:10:10:20|   F41L|86bef6ae-2f1c-42e...|    Sorrento|\n",
      "|37.9248961741|-122.206868167|2014-03-15:10:10:20|      3|27178d24-3a61-42f...|      iFruit|\n",
      "|38.1653163975|-122.151608378|2014-03-15:10:10:20|   2400|b4a15931-9a69-469...|     Titanic|\n",
      "| 33.323126641|-116.472234745|2014-03-15:10:10:20|     S1|e75dc777-b531-4db...|       Ronin|\n",
      "|33.1774985363|-116.889226299|2014-03-15:10:10:20|Novelty|d4ebd9ae-4dad-4fb...|       Ronin|\n",
      "|32.2083493316|-111.434102713|2014-03-15:10:10:20|Novelty|b954db08-1f97-431...|       Ronin|\n",
      "|34.0487620041|-111.928871717|2014-03-15:10:10:20|    1.0|16085fbf-cda5-448...|      MeeToo|\n",
      "|37.9031053656|-121.561451342|2014-03-15:10:10:20|      1|6474caf1-7bbf-459...|      iFruit|\n",
      "| 36.032967794|-118.970108886|2014-03-15:10:10:20|    5.0|668e6f06-a8aa-4be...|      MeeToo|\n",
      "|45.0400810371|-117.858004521|2014-03-15:10:10:20|Novelty|6d195272-8dba-42d...|       Ronin|\n",
      "|35.2338863976|  -114.3057523|2014-03-15:10:10:20|   F10L|d228cdab-8b35-473...|    Sorrento|\n",
      "+-------------+--------------+-------------------+-------+--------------------+------------+\n",
      "only showing top 20 rows\n",
      "\n"
     ]
    }
   ],
   "source": [
    "df.show()"
   ]
  },
  {
   "cell_type": "code",
   "execution_count": 15,
   "metadata": {},
   "outputs": [],
   "source": [
    "df.write.csv(\"s3a://finalgeodata/outputstep1\")"
   ]
  },
  {
   "cell_type": "code",
   "execution_count": null,
   "metadata": {},
   "outputs": [],
   "source": []
  }
 ],
 "metadata": {
  "kernelspec": {
   "display_name": "Python 2",
   "language": "python",
   "name": "python2"
  },
  "language_info": {
   "codemirror_mode": {
    "name": "ipython",
    "version": 2
   },
   "file_extension": ".py",
   "mimetype": "text/x-python",
   "name": "python",
   "nbconvert_exporter": "python",
   "pygments_lexer": "ipython2",
   "version": "2.7.16"
  }
 },
 "nbformat": 4,
 "nbformat_minor": 2
}
